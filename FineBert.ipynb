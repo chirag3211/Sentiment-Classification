{
 "cells": [
  {
   "cell_type": "code",
   "execution_count": 1,
   "metadata": {},
   "outputs": [
    {
     "name": "stdout",
     "output_type": "stream",
     "text": [
      "--2024-02-03 19:39:08--  https://raw.githubusercontent.com/cblancac/SentimentAnalysisBert/main/data/train_150k.txt\n",
      "Resolving raw.githubusercontent.com (raw.githubusercontent.com)... 185.199.108.133, 185.199.109.133, 185.199.110.133, ...\n",
      "Connecting to raw.githubusercontent.com (raw.githubusercontent.com)|185.199.108.133|:443... connected.\n",
      "HTTP request sent, awaiting response... 200 OK\n",
      "Length: 11697788 (11M) [text/plain]\n",
      "Saving to: ‘train_150k.txt.1’\n",
      "\n",
      "train_150k.txt.1     17%[==>                 ]   1.95M   309KB/s    eta 24s    ^C\n",
      "--2024-02-03 19:39:14--  https://raw.githubusercontent.com/cblancac/SentimentAnalysisBert/main/data/test_62k.txt\n",
      "Resolving raw.githubusercontent.com (raw.githubusercontent.com)... 185.199.109.133, 185.199.110.133, 185.199.111.133, ...\n",
      "Connecting to raw.githubusercontent.com (raw.githubusercontent.com)|185.199.109.133|:443... connected.\n",
      "HTTP request sent, awaiting response... 200 OK\n",
      "Length: 4839762 (4.6M) [text/plain]\n",
      "Saving to: ‘test_62k.txt.1’\n",
      "\n",
      "test_62k.txt.1      100%[===================>]   4.62M  11.5MB/s    in 0.4s    \n",
      "\n",
      "2024-02-03 19:39:15 (11.5 MB/s) - ‘test_62k.txt.1’ saved [4839762/4839762]\n",
      "\n"
     ]
    }
   ],
   "source": [
    "!wget https://raw.githubusercontent.com/cblancac/SentimentAnalysisBert/main/data/train_150k.txt\n",
    "!wget https://raw.githubusercontent.com/cblancac/SentimentAnalysisBert/main/data/test_62k.txt"
   ]
  },
  {
   "cell_type": "code",
   "execution_count": 1,
   "metadata": {},
   "outputs": [
    {
     "name": "stderr",
     "output_type": "stream",
     "text": [
      "/home/chirag/sample/sample/lib/python3.10/site-packages/tqdm/auto.py:21: TqdmWarning: IProgress not found. Please update jupyter and ipywidgets. See https://ipywidgets.readthedocs.io/en/stable/user_install.html\n",
      "  from .autonotebook import tqdm as notebook_tqdm\n"
     ]
    }
   ],
   "source": [
    "import pandas as pd\n",
    "from datasets import Dataset\n",
    "data = pd.read_csv('train_150k.txt', sep='\\t', header=None, names=['label', 'text'])\n",
    "data = data[['text', 'label']].to_dict('list')\n",
    "train_dataset = Dataset.from_dict(data)\n",
    "\n",
    "data = pd.read_csv('test_62k.txt', sep='\\t', header=None, names=['label', 'text'])\n",
    "data = data[['text', 'label']].to_dict('list')\n",
    "eval_dataset = Dataset.from_dict(data)"
   ]
  },
  {
   "cell_type": "code",
   "execution_count": 2,
   "metadata": {},
   "outputs": [
    {
     "name": "stderr",
     "output_type": "stream",
     "text": [
      "Some weights of BertForSequenceClassification were not initialized from the model checkpoint at bert-base-uncased and are newly initialized: ['classifier.bias', 'classifier.weight']\n",
      "You should probably TRAIN this model on a down-stream task to be able to use it for predictions and inference.\n",
      "Map: 100%|██████████| 149985/149985 [00:38<00:00, 3864.76 examples/s]\n",
      "Map: 100%|██████████| 61998/61998 [00:15<00:00, 3902.33 examples/s]\n"
     ]
    }
   ],
   "source": [
    "import torch\n",
    "import pandas as pd\n",
    "from datasets import Dataset\n",
    "from transformers import BertTokenizer, BertForSequenceClassification, TrainingArguments, Trainer\n",
    "device = torch.device('cuda' if torch.cuda.is_available() else 'cpu')\n",
    "\n",
    "# Load pre-trained BERT model and tokenizer\n",
    "bert_model = BertForSequenceClassification.from_pretrained('bert-base-uncased', num_labels=2).to(device)\n",
    "bert_tokenizer = BertTokenizer.from_pretrained('bert-base-uncased')\n",
    "\n",
    "train_dataset = train_dataset.map(lambda examples: bert_tokenizer(examples['text'], truncation=True, padding='max_length'), batched=True)\n",
    "eval_dataset = eval_dataset.map(lambda examples: bert_tokenizer(examples['text'], truncation=True, padding='max_length'), batched=True)"
   ]
  },
  {
   "cell_type": "code",
   "execution_count": 3,
   "metadata": {},
   "outputs": [
    {
     "data": {
      "text/html": [
       "\n",
       "    <div>\n",
       "      \n",
       "      <progress value='7032' max='7032' style='width:300px; height:20px; vertical-align: middle;'></progress>\n",
       "      [7032/7032 3:06:04, Epoch 3/3]\n",
       "    </div>\n",
       "    <table border=\"1\" class=\"dataframe\">\n",
       "  <thead>\n",
       " <tr style=\"text-align: left;\">\n",
       "      <th>Step</th>\n",
       "      <th>Training Loss</th>\n",
       "    </tr>\n",
       "  </thead>\n",
       "  <tbody>\n",
       "    <tr>\n",
       "      <td>500</td>\n",
       "      <td>0.477700</td>\n",
       "    </tr>\n",
       "    <tr>\n",
       "      <td>1000</td>\n",
       "      <td>0.389700</td>\n",
       "    </tr>\n",
       "    <tr>\n",
       "      <td>1500</td>\n",
       "      <td>0.372400</td>\n",
       "    </tr>\n",
       "    <tr>\n",
       "      <td>2000</td>\n",
       "      <td>0.362100</td>\n",
       "    </tr>\n",
       "    <tr>\n",
       "      <td>2500</td>\n",
       "      <td>0.325100</td>\n",
       "    </tr>\n",
       "    <tr>\n",
       "      <td>3000</td>\n",
       "      <td>0.267700</td>\n",
       "    </tr>\n",
       "    <tr>\n",
       "      <td>3500</td>\n",
       "      <td>0.265600</td>\n",
       "    </tr>\n",
       "    <tr>\n",
       "      <td>4000</td>\n",
       "      <td>0.263500</td>\n",
       "    </tr>\n",
       "    <tr>\n",
       "      <td>4500</td>\n",
       "      <td>0.261700</td>\n",
       "    </tr>\n",
       "    <tr>\n",
       "      <td>5000</td>\n",
       "      <td>0.188400</td>\n",
       "    </tr>\n",
       "    <tr>\n",
       "      <td>5500</td>\n",
       "      <td>0.150600</td>\n",
       "    </tr>\n",
       "    <tr>\n",
       "      <td>6000</td>\n",
       "      <td>0.150100</td>\n",
       "    </tr>\n",
       "    <tr>\n",
       "      <td>6500</td>\n",
       "      <td>0.143600</td>\n",
       "    </tr>\n",
       "    <tr>\n",
       "      <td>7000</td>\n",
       "      <td>0.138500</td>\n",
       "    </tr>\n",
       "  </tbody>\n",
       "</table><p>"
      ],
      "text/plain": [
       "<IPython.core.display.HTML object>"
      ]
     },
     "metadata": {},
     "output_type": "display_data"
    },
    {
     "data": {
      "text/plain": [
       "TrainOutput(global_step=7032, training_loss=0.2676658528317635, metrics={'train_runtime': 11166.5428, 'train_samples_per_second': 40.295, 'train_steps_per_second': 0.63, 'total_flos': 1.183881349145088e+17, 'train_loss': 0.2676658528317635, 'epoch': 3.0})"
      ]
     },
     "execution_count": 3,
     "metadata": {},
     "output_type": "execute_result"
    }
   ],
   "source": [
    "# Define the training arguments\n",
    "training_args = TrainingArguments(\n",
    "    output_dir='./results',          # output directory\n",
    "    num_train_epochs=3,              # total number of training epochs\n",
    "    per_device_train_batch_size=64,  # batch size per device during training\n",
    "    per_device_eval_batch_size=64,   # batch size for evaluation\n",
    "    warmup_steps=500,                # number of warmup steps for learning rate scheduler\n",
    "    weight_decay=0.01,               # strength of weight decay\n",
    "    logging_dir='./logs',            # directory for storing logs\n",
    ")\n",
    "\n",
    "# Initialize the trainer\n",
    "trainer = Trainer(\n",
    "    model=bert_model,                         # the instantiated 🤗 Transformers model to be trained\n",
    "    args=training_args,                       # training arguments, defined above\n",
    "    train_dataset=train_dataset,                    # training dataset\n",
    "    )\n",
    "\n",
    "trainer.train()"
   ]
  },
  {
   "cell_type": "code",
   "execution_count": 6,
   "metadata": {},
   "outputs": [],
   "source": [
    "trainer.save_model('fineBERT')"
   ]
  },
  {
   "cell_type": "code",
   "execution_count": 45,
   "metadata": {},
   "outputs": [
    {
     "name": "stderr",
     "output_type": "stream",
     "text": [
      "Map: 100%|██████████| 1100/1100 [00:00<00:00, 4152.90 examples/s]\n"
     ]
    },
    {
     "data": {
      "text/html": [
       "\n",
       "    <div>\n",
       "      \n",
       "      <progress value='18' max='18' style='width:300px; height:20px; vertical-align: middle;'></progress>\n",
       "      [18/18 00:08]\n",
       "    </div>\n",
       "    "
      ],
      "text/plain": [
       "<IPython.core.display.HTML object>"
      ]
     },
     "metadata": {},
     "output_type": "display_data"
    },
    {
     "data": {
      "text/plain": [
       "{'eval_loss': 0.45738670229911804,\n",
       " 'eval_runtime': 8.2189,\n",
       " 'eval_samples_per_second': 133.838,\n",
       " 'eval_steps_per_second': 2.19}"
      ]
     },
     "execution_count": 45,
     "metadata": {},
     "output_type": "execute_result"
    }
   ],
   "source": [
    "data = pd.read_csv('test_62k.txt', sep='\\t', header=None, names=['label', 'text'])\n",
    "data = data.iloc[41600:42700]\n",
    "data = data[['text', 'label']].to_dict('list')\n",
    "ev_dataset = Dataset.from_dict(data)\n",
    "ev_dataset = ev_dataset.map(lambda examples: bert_tokenizer(examples['text'], truncation=True, padding='max_length'), batched=True)\n",
    "ev_dataset.set_format('torch', columns=['input_ids', 'attention_mask', 'label'])\n",
    "# trainer1 = Trainer(model = BertForSequenceClassification.from_pretrained('fineBERT'), )\n",
    "# test_metrics = trainer.evaluate(ev_dataset)\n",
    "trainer1 = Trainer(\n",
    "    model=BertForSequenceClassification.from_pretrained('fineBERT'),\n",
    "    args=training_args,\n",
    "    train_dataset=train_dataset,  # replace with your actual training dataset\n",
    "    eval_dataset=ev_dataset,\n",
    ")\n",
    "results = trainer1.evaluate()\n",
    "results"
   ]
  },
  {
   "cell_type": "code",
   "execution_count": 46,
   "metadata": {},
   "outputs": [],
   "source": [
    "from torch.utils.data import DataLoader"
   ]
  },
  {
   "cell_type": "code",
   "execution_count": 47,
   "metadata": {},
   "outputs": [
    {
     "name": "stdout",
     "output_type": "stream",
     "text": [
      "Test Accuracy on the New Dataset: 0.8536363636363636\n"
     ]
    }
   ],
   "source": [
    "dataloader = DataLoader(ev_dataset, batch_size=5)\n",
    "fine_tuned_model = BertForSequenceClassification.from_pretrained('fineBERT')\n",
    "fine_tuned_model.eval()\n",
    "# Perform inference and calculate accuracy\n",
    "correct_predictions = 0\n",
    "total_samples = 0\n",
    "\n",
    "for batch in dataloader:\n",
    "    with torch.no_grad():\n",
    "        input_ids = [ids.to(device) for ids in batch['input_ids']]\n",
    "        attention_mask = [mask.to(device) for mask in batch['attention_mask']]\n",
    "        labels = batch['label'].to(device)\n",
    "\n",
    "        # Ensure input_ids and attention_mask are not lists\n",
    "        input_ids = torch.stack(input_ids)\n",
    "        attention_mask = torch.stack(attention_mask)\n",
    "\n",
    "        # Make sure the model is on the same device\n",
    "        fine_tuned_model = fine_tuned_model.to(device)\n",
    "\n",
    "        outputs = fine_tuned_model(input_ids, attention_mask=attention_mask)\n",
    "        predictions = torch.argmax(outputs.logits, dim=1)\n",
    "\n",
    "        correct_predictions += (predictions == labels).sum().item()\n",
    "        total_samples += len(labels)\n",
    "\n",
    "test_accuracy = correct_predictions / total_samples\n",
    "print(f'Test Accuracy on the New Dataset: {test_accuracy}')"
   ]
  },
  {
   "cell_type": "code",
   "execution_count": null,
   "metadata": {},
   "outputs": [],
   "source": []
  }
 ],
 "metadata": {
  "kernelspec": {
   "display_name": "sample",
   "language": "python",
   "name": "python3"
  },
  "language_info": {
   "codemirror_mode": {
    "name": "ipython",
    "version": 3
   },
   "file_extension": ".py",
   "mimetype": "text/x-python",
   "name": "python",
   "nbconvert_exporter": "python",
   "pygments_lexer": "ipython3",
   "version": "3.10.12"
  }
 },
 "nbformat": 4,
 "nbformat_minor": 2
}
