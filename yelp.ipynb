{
 "cells": [
  {
   "cell_type": "code",
   "execution_count": 1,
   "metadata": {},
   "outputs": [
    {
     "name": "stderr",
     "output_type": "stream",
     "text": [
      "/home/chirag/sample/sample/lib/python3.10/site-packages/tqdm/auto.py:21: TqdmWarning: IProgress not found. Please update jupyter and ipywidgets. See https://ipywidgets.readthedocs.io/en/stable/user_install.html\n",
      "  from .autonotebook import tqdm as notebook_tqdm\n",
      "Downloading data: 100%|██████████| 256M/256M [01:58<00:00, 2.16MB/s] \n",
      "Downloading data: 100%|██████████| 17.7M/17.7M [00:05<00:00, 3.09MB/s]\n",
      "Generating train split: 560000 examples [00:01, 414434.39 examples/s]\n",
      "Generating test split: 38000 examples [00:00, 387391.12 examples/s]\n",
      "Map (num_proc=4): 100%|██████████| 560000/560000 [03:30<00:00, 2665.74 examples/s]\n",
      "Saving the dataset (5/5 shards): 100%|██████████| 560000/560000 [00:01<00:00, 370960.44 examples/s]\n"
     ]
    }
   ],
   "source": [
    "from transformers import  BertTokenizer\n",
    "from datasets import load_dataset\n",
    "\n",
    "tokenizer = BertTokenizer.from_pretrained('bert-base-uncased')\n",
    "# Load dataset\n",
    "yelp_dataset = load_dataset('yelp_polarity')['train']\n",
    "\n",
    "# Tokenize the dataset\n",
    "def tokenize(batch):\n",
    "    return tokenizer(batch['text'], padding=True, truncation=True)\n",
    "\n",
    "yelp_dataset = yelp_dataset.map(tokenize, batched=True, batch_size=1000, num_proc=4)\n",
    "\n",
    "# Format the dataset\n",
    "yelp_dataset.set_format('torch', columns=['input_ids', 'attention_mask', 'label'])\n",
    "\n",
    "# Save the dataset\n",
    "yelp_dataset.save_to_disk('yelp_dataset')"
   ]
  },
  {
   "cell_type": "code",
   "execution_count": null,
   "metadata": {},
   "outputs": [],
   "source": []
  }
 ],
 "metadata": {
  "kernelspec": {
   "display_name": "sample",
   "language": "python",
   "name": "python3"
  },
  "language_info": {
   "codemirror_mode": {
    "name": "ipython",
    "version": 3
   },
   "file_extension": ".py",
   "mimetype": "text/x-python",
   "name": "python",
   "nbconvert_exporter": "python",
   "pygments_lexer": "ipython3",
   "version": "3.10.12"
  }
 },
 "nbformat": 4,
 "nbformat_minor": 2
}
